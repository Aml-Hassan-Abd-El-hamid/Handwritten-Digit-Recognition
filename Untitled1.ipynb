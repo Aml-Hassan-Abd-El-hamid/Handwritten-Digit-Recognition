{
 "cells": [
  {
   "cell_type": "markdown",
   "id": "3d38db5c",
   "metadata": {},
   "source": [
    "# Handwritten Digit Recognition"
   ]
  },
  {
   "cell_type": "markdown",
   "id": "9cfa5f9a",
   "metadata": {},
   "source": [
    "A handwritten digit recognizer using MNIST dataset.\n",
    "\n"
   ]
  },
  {
   "cell_type": "code",
   "execution_count": 2,
   "id": "1d097fb2",
   "metadata": {},
   "outputs": [],
   "source": [
    "#The used packages\n",
    "import tensorflow as tf\n",
    "from tensorflow import keras \n",
    "import matplotlib.pyplot as plt\n",
    "import numpy as np\n",
    "from keras.models import Sequential\n",
    "from keras.layers import Flatten,Dense,Conv2D,MaxPooling2D\n",
    "from keras.optimizers import SGD,Adam\n",
    "\n",
    "physical_devices = tf.config.list_physical_devices('GPU') \n",
    "if len(physical_devices)>0:\n",
    "    tf.config.experimental.set_memory_growth(physical_devices[0], True)\n"
   ]
  },
  {
   "cell_type": "markdown",
   "id": "0ea38f04",
   "metadata": {},
   "source": [
    "<h2>Loading the data"
   ]
  },
  {
   "cell_type": "code",
   "execution_count": 3,
   "id": "1db608a9",
   "metadata": {},
   "outputs": [
    {
     "name": "stdout",
     "output_type": "stream",
     "text": [
      "(60000, 28, 28) (60000,)\n",
      "(10000, 28, 28) (10000,)\n",
      "Type of data is  <class 'numpy.ndarray'> <class 'numpy.uint8'>\n",
      "(28, 28) ()\n",
      "[[  0   0   0   0   0   0   0   0   0   0   0   0   0   0   0   0   0   0\n",
      "    0   0   0   0   0   0   0   0   0   0]\n",
      " [  0   0   0   0   0   0   0   0   0   0   0   0   0   0   0   0   0   0\n",
      "    0   0   0   0   0   0   0   0   0   0]\n",
      " [  0   0   0   0   0   0   0   0   0   0   0   0   0   0   0   0   0   0\n",
      "    0   0   0   0   0   0   0   0   0   0]\n",
      " [  0   0   0   0   0   0   0   0   0   0   0   0   0   0   0   0   0   0\n",
      "    0   0   0   0   0   0   0   0   0   0]\n",
      " [  0   0   0   0   0   0   0   0   0   0   0   0   0   0   0   0   0   0\n",
      "    0   0   0   0   0   0   0   0   0   0]\n",
      " [  0   0   0   0   0   0   0   0   0   0   0   0   3  18  18  18 126 136\n",
      "  175  26 166 255 247 127   0   0   0   0]\n",
      " [  0   0   0   0   0   0   0   0  30  36  94 154 170 253 253 253 253 253\n",
      "  225 172 253 242 195  64   0   0   0   0]\n",
      " [  0   0   0   0   0   0   0  49 238 253 253 253 253 253 253 253 253 251\n",
      "   93  82  82  56  39   0   0   0   0   0]\n",
      " [  0   0   0   0   0   0   0  18 219 253 253 253 253 253 198 182 247 241\n",
      "    0   0   0   0   0   0   0   0   0   0]\n",
      " [  0   0   0   0   0   0   0   0  80 156 107 253 253 205  11   0  43 154\n",
      "    0   0   0   0   0   0   0   0   0   0]\n",
      " [  0   0   0   0   0   0   0   0   0  14   1 154 253  90   0   0   0   0\n",
      "    0   0   0   0   0   0   0   0   0   0]\n",
      " [  0   0   0   0   0   0   0   0   0   0   0 139 253 190   2   0   0   0\n",
      "    0   0   0   0   0   0   0   0   0   0]\n",
      " [  0   0   0   0   0   0   0   0   0   0   0  11 190 253  70   0   0   0\n",
      "    0   0   0   0   0   0   0   0   0   0]\n",
      " [  0   0   0   0   0   0   0   0   0   0   0   0  35 241 225 160 108   1\n",
      "    0   0   0   0   0   0   0   0   0   0]\n",
      " [  0   0   0   0   0   0   0   0   0   0   0   0   0  81 240 253 253 119\n",
      "   25   0   0   0   0   0   0   0   0   0]\n",
      " [  0   0   0   0   0   0   0   0   0   0   0   0   0   0  45 186 253 253\n",
      "  150  27   0   0   0   0   0   0   0   0]\n",
      " [  0   0   0   0   0   0   0   0   0   0   0   0   0   0   0  16  93 252\n",
      "  253 187   0   0   0   0   0   0   0   0]\n",
      " [  0   0   0   0   0   0   0   0   0   0   0   0   0   0   0   0   0 249\n",
      "  253 249  64   0   0   0   0   0   0   0]\n",
      " [  0   0   0   0   0   0   0   0   0   0   0   0   0   0  46 130 183 253\n",
      "  253 207   2   0   0   0   0   0   0   0]\n",
      " [  0   0   0   0   0   0   0   0   0   0   0   0  39 148 229 253 253 253\n",
      "  250 182   0   0   0   0   0   0   0   0]\n",
      " [  0   0   0   0   0   0   0   0   0   0  24 114 221 253 253 253 253 201\n",
      "   78   0   0   0   0   0   0   0   0   0]\n",
      " [  0   0   0   0   0   0   0   0  23  66 213 253 253 253 253 198  81   2\n",
      "    0   0   0   0   0   0   0   0   0   0]\n",
      " [  0   0   0   0   0   0  18 171 219 253 253 253 253 195  80   9   0   0\n",
      "    0   0   0   0   0   0   0   0   0   0]\n",
      " [  0   0   0   0  55 172 226 253 253 253 253 244 133  11   0   0   0   0\n",
      "    0   0   0   0   0   0   0   0   0   0]\n",
      " [  0   0   0   0 136 253 253 253 212 135 132  16   0   0   0   0   0   0\n",
      "    0   0   0   0   0   0   0   0   0   0]\n",
      " [  0   0   0   0   0   0   0   0   0   0   0   0   0   0   0   0   0   0\n",
      "    0   0   0   0   0   0   0   0   0   0]\n",
      " [  0   0   0   0   0   0   0   0   0   0   0   0   0   0   0   0   0   0\n",
      "    0   0   0   0   0   0   0   0   0   0]\n",
      " [  0   0   0   0   0   0   0   0   0   0   0   0   0   0   0   0   0   0\n",
      "    0   0   0   0   0   0   0   0   0   0]] 5\n"
     ]
    }
   ],
   "source": [
    "(xtr,ytr),(xts,yts) = keras.datasets.mnist.load_data()\n",
    "\n",
    "print(xtr.shape, ytr.shape)\n",
    "print(xts.shape,yts.shape)\n",
    "print('Type of data is ',type(xtr[0]),type(ytr[0]))\n",
    "print(xtr[0].shape,ytr[0].shape)\n",
    "print(xtr[0],ytr[0])"
   ]
  },
  {
   "cell_type": "markdown",
   "id": "0cf7416b",
   "metadata": {},
   "source": [
    "<h2> Visualize the digits dataset\n"
   ]
  },
  {
   "cell_type": "code",
   "execution_count": 4,
   "id": "a1e33afd",
   "metadata": {},
   "outputs": [
    {
     "data": {
      "text/plain": [
       "Text(0.5, 0.98, 'The first ten numbers')"
      ]
     },
     "execution_count": 4,
     "metadata": {},
     "output_type": "execute_result"
    },
    {
     "data": {
      "image/png": "[encoded data removed]",
      "text/plain": [
       "<Figure size 432x288 with 10 Axes>"
      ]
     },
     "metadata": {
      "needs_background": "light"
     },
     "output_type": "display_data"
    }
   ],
   "source": [
    "#show the first ten numbers\n",
    "#(1,10)= 1 rows, ten columns\n",
    "#x = an array of Axes objects\n",
    "figure,x = plt.subplots(1,10)\n",
    "for i in range(10):\n",
    "    x[i].imshow(xtr[i])\n",
    "    x[i].set_title(ytr[i])\n",
    "    #don't show axis, cuz it's ugly here :(\n",
    "    x[i].axis('off')\n",
    "figure.suptitle(\"The first ten numbers\")\n"
   ]
  },
  {
   "cell_type": "markdown",
   "id": "9aaa6e30",
   "metadata": {},
   "source": [
    "<h2>Pre-Processing"
   ]
  },
  {
   "cell_type": "code",
   "execution_count": 6,
   "id": "c6964c39",
   "metadata": {},
   "outputs": [
    {
     "name": "stdout",
     "output_type": "stream",
     "text": [
      "First digit: [5]\n",
      "One-hot-encoded version:\n",
      " [[0. 0. 0. 0. 0. 1. 0. 0. 0. 0.]]\n"
     ]
    }
   ],
   "source": [
    "# Normalizing the data\n",
    "#using float 16 insted of float 32 since it's more efficient\n",
    "xtr = xtr.astype(np.float16)/255.0\n",
    "xts = xts.astype(np.float16)/255.0\n",
    "#one hot encoding \n",
    "ytr_oh = keras.utils.to_categorical(ytr)\n",
    "yts_oh = keras.utils.to_categorical(yts)\n",
    "print(\"First digit:\",ytr[:1])\n",
    "print(\"One-hot-encoded version:\\n\",ytr_oh[:1])\n"
   ]
  },
  {
   "cell_type": "markdown",
   "id": "ec99ddd0",
   "metadata": {},
   "source": [
    "<h2>Modeling and Toning\n"
   ]
  },
  {
   "cell_type": "markdown",
   "id": "ee1551b1",
   "metadata": {},
   "source": [
    "I started with a small general model and then added more complexity until I started having an overfitting problem, then I moved on to a convolutional neural network. I have built 4 models and the last one was the best."
   ]
  },
  {
   "cell_type": "code",
   "execution_count": 12,
   "id": "5f4e9429",
   "metadata": {},
   "outputs": [
    {
     "name": "stdout",
     "output_type": "stream",
     "text": [
      "Epoch 1/10\n",
      "1875/1875 [==============================] - 2s 1ms/step - loss: 0.3770 - acc: 0.8921 - val_loss: 0.3082 - val_acc: 0.9123\n",
      "Epoch 2/10\n",
      "1875/1875 [==============================] - 2s 1ms/step - loss: 0.3033 - acc: 0.9145 - val_loss: 0.2905 - val_acc: 0.9178\n",
      "Epoch 3/10\n",
      "1875/1875 [==============================] - 2s 1ms/step - loss: 0.2896 - acc: 0.9182 - val_loss: 0.2785 - val_acc: 0.9210\n",
      "Epoch 4/10\n",
      "1875/1875 [==============================] - 2s 1ms/step - loss: 0.2825 - acc: 0.9207 - val_loss: 0.2807 - val_acc: 0.9228\n",
      "Epoch 5/10\n",
      "1875/1875 [==============================] - 2s 1ms/step - loss: 0.2773 - acc: 0.9224 - val_loss: 0.2865 - val_acc: 0.9197\n",
      "Epoch 6/10\n",
      "1875/1875 [==============================] - 2s 1ms/step - loss: 0.2744 - acc: 0.9237 - val_loss: 0.2748 - val_acc: 0.9219\n",
      "Epoch 7/10\n",
      "1875/1875 [==============================] - 2s 1ms/step - loss: 0.2706 - acc: 0.9246 - val_loss: 0.2893 - val_acc: 0.9212\n",
      "Epoch 8/10\n",
      "1875/1875 [==============================] - 2s 1ms/step - loss: 0.2693 - acc: 0.9247 - val_loss: 0.2783 - val_acc: 0.9235\n",
      "Epoch 9/10\n",
      "1875/1875 [==============================] - 2s 1ms/step - loss: 0.2676 - acc: 0.9262 - val_loss: 0.2734 - val_acc: 0.9231\n",
      "Epoch 10/10\n",
      "1875/1875 [==============================] - 2s 1ms/step - loss: 0.2651 - acc: 0.9261 - val_loss: 0.2760 - val_acc: 0.9215\n",
      "Model: \"sequential_1\"\n",
      "_________________________________________________________________\n",
      " Layer (type)                Output Shape              Param #   \n",
      "=================================================================\n",
      " flatten_1 (Flatten)         (None, 784)               0         \n",
      "                                                                 \n",
      " dense_1 (Dense)             (None, 10)                7850      \n",
      "                                                                 \n",
      "=================================================================\n",
      "Total params: 7,850\n",
      "Trainable params: 7,850\n",
      "Non-trainable params: 0\n",
      "_________________________________________________________________\n"
     ]
    }
   ],
   "source": [
    "tf.random.set_seed(42)\n",
    "\n",
    "model1 = Sequential()\n",
    "#the dimension of our digit images is 28×28.Because the input dimension of a fully-connected layer is 784, we need to insert another layer into the network, called Flatten, to change tensor shape from 28×28 to 784\n",
    "model1.add(Flatten(input_shape=(28,28)))\n",
    "#We want th output of the network to return the probability of the input digit being equal to  . Because the output of a fully-connected layer is not normalized to be between 0 and 1, it cannot be thought of as probability. To turn it into a probability we need to apply another layer called Softmax.\n",
    "model1.add(Dense(10,activation=\"softmax\"))\n",
    "           \n",
    "model1.compile(SGD(momentum=0.5,lr=.1),loss='categorical_crossentropy',metrics=['acc'])\n",
    "model1.fit(xtr,ytr_oh,validation_data=(xts,yts_oh), epochs=10)\n",
    "model1.summary()\n",
    "#that model's accuracy is already 92% although it's very simple one"
   ]
  },
  {
   "cell_type": "code",
   "execution_count": 29,
   "id": "7767751a",
   "metadata": {},
   "outputs": [
    {
     "name": "stdout",
     "output_type": "stream",
     "text": [
      "Epoch 1/53\n",
      "1875/1875 [==============================] - 4s 2ms/step - loss: 0.2855 - acc: 0.9118 - val_loss: 0.1499 - val_acc: 0.9516\n",
      "Epoch 2/53\n",
      "1875/1875 [==============================] - 3s 2ms/step - loss: 0.1189 - acc: 0.9637 - val_loss: 0.1243 - val_acc: 0.9611\n",
      "Epoch 3/53\n",
      "1875/1875 [==============================] - 3s 2ms/step - loss: 0.0859 - acc: 0.9726 - val_loss: 0.0875 - val_acc: 0.9732\n",
      "Epoch 4/53\n",
      "1875/1875 [==============================] - 3s 1ms/step - loss: 0.0665 - acc: 0.9788 - val_loss: 0.0847 - val_acc: 0.9751\n",
      "Epoch 5/53\n",
      "1875/1875 [==============================] - 3s 2ms/step - loss: 0.0531 - acc: 0.9839 - val_loss: 0.0927 - val_acc: 0.9730\n",
      "Epoch 6/53\n",
      "1875/1875 [==============================] - 3s 2ms/step - loss: 0.0420 - acc: 0.9866 - val_loss: 0.0768 - val_acc: 0.9766\n",
      "Epoch 7/53\n",
      "1875/1875 [==============================] - 3s 2ms/step - loss: 0.0356 - acc: 0.9880 - val_loss: 0.0674 - val_acc: 0.9804\n",
      "Epoch 8/53\n",
      "1875/1875 [==============================] - 3s 2ms/step - loss: 0.0310 - acc: 0.9900 - val_loss: 0.0884 - val_acc: 0.9745\n",
      "Epoch 9/53\n",
      "1875/1875 [==============================] - 3s 2ms/step - loss: 0.0263 - acc: 0.9914 - val_loss: 0.0815 - val_acc: 0.9786\n",
      "Epoch 10/53\n",
      "1875/1875 [==============================] - 4s 2ms/step - loss: 0.0209 - acc: 0.9934 - val_loss: 0.0862 - val_acc: 0.9754\n",
      "Epoch 11/53\n",
      "1875/1875 [==============================] - 4s 2ms/step - loss: 0.0186 - acc: 0.9941 - val_loss: 0.0980 - val_acc: 0.9741\n",
      "Epoch 12/53\n",
      "1875/1875 [==============================] - 4s 2ms/step - loss: 0.0172 - acc: 0.9944 - val_loss: 0.0906 - val_acc: 0.9790\n",
      "Epoch 13/53\n",
      "1875/1875 [==============================] - 4s 2ms/step - loss: 0.0150 - acc: 0.9951 - val_loss: 0.0932 - val_acc: 0.9776\n",
      "Epoch 14/53\n",
      "1875/1875 [==============================] - 3s 2ms/step - loss: 0.0110 - acc: 0.9967 - val_loss: 0.0879 - val_acc: 0.9795\n",
      "Epoch 15/53\n",
      "1875/1875 [==============================] - 3s 2ms/step - loss: 0.0071 - acc: 0.9978 - val_loss: 0.0920 - val_acc: 0.9799\n",
      "Epoch 16/53\n",
      "1875/1875 [==============================] - 3s 2ms/step - loss: 0.0078 - acc: 0.9975 - val_loss: 0.1013 - val_acc: 0.9790\n",
      "Epoch 17/53\n",
      "1875/1875 [==============================] - 3s 2ms/step - loss: 0.0128 - acc: 0.9956 - val_loss: 0.1115 - val_acc: 0.9785\n",
      "Epoch 18/53\n",
      "1875/1875 [==============================] - 3s 2ms/step - loss: 0.0141 - acc: 0.9952 - val_loss: 0.0908 - val_acc: 0.9802\n",
      "Epoch 19/53\n",
      "1875/1875 [==============================] - 3s 2ms/step - loss: 0.0064 - acc: 0.9980 - val_loss: 0.0935 - val_acc: 0.9804\n",
      "Epoch 20/53\n",
      "1875/1875 [==============================] - 4s 2ms/step - loss: 0.0037 - acc: 0.9989 - val_loss: 0.0921 - val_acc: 0.9818\n",
      "Epoch 21/53\n",
      "1875/1875 [==============================] - 3s 2ms/step - loss: 0.0016 - acc: 0.9996 - val_loss: 0.0934 - val_acc: 0.9830\n",
      "Epoch 22/53\n",
      "1875/1875 [==============================] - 3s 2ms/step - loss: 3.7078e-04 - acc: 1.0000 - val_loss: 0.0924 - val_acc: 0.9832\n",
      "Epoch 23/53\n",
      "1875/1875 [==============================] - 3s 2ms/step - loss: 2.0408e-04 - acc: 1.0000 - val_loss: 0.0943 - val_acc: 0.9830\n",
      "Epoch 24/53\n",
      "1875/1875 [==============================] - 3s 2ms/step - loss: 1.5965e-04 - acc: 1.0000 - val_loss: 0.0962 - val_acc: 0.9834\n",
      "Epoch 25/53\n",
      "1875/1875 [==============================] - 3s 2ms/step - loss: 1.3688e-04 - acc: 1.0000 - val_loss: 0.0973 - val_acc: 0.9833\n",
      "Epoch 26/53\n",
      "1875/1875 [==============================] - 3s 2ms/step - loss: 1.1868e-04 - acc: 1.0000 - val_loss: 0.0987 - val_acc: 0.9834\n",
      "Epoch 27/53\n",
      "1875/1875 [==============================] - 3s 2ms/step - loss: 1.0674e-04 - acc: 1.0000 - val_loss: 0.0994 - val_acc: 0.9836\n",
      "Epoch 28/53\n",
      "1875/1875 [==============================] - 3s 2ms/step - loss: 9.6784e-05 - acc: 1.0000 - val_loss: 0.1000 - val_acc: 0.9837\n",
      "Epoch 29/53\n",
      "1875/1875 [==============================] - 3s 2ms/step - loss: 8.8593e-05 - acc: 1.0000 - val_loss: 0.1008 - val_acc: 0.9834\n",
      "Epoch 30/53\n",
      "1875/1875 [==============================] - 3s 2ms/step - loss: 8.2042e-05 - acc: 1.0000 - val_loss: 0.1013 - val_acc: 0.9835\n",
      "Epoch 31/53\n",
      "1875/1875 [==============================] - 3s 2ms/step - loss: 7.6562e-05 - acc: 1.0000 - val_loss: 0.1021 - val_acc: 0.9837\n",
      "Epoch 32/53\n",
      "1875/1875 [==============================] - 3s 2ms/step - loss: 7.1374e-05 - acc: 1.0000 - val_loss: 0.1028 - val_acc: 0.9836\n",
      "Epoch 33/53\n",
      "1875/1875 [==============================] - 3s 2ms/step - loss: 6.7157e-05 - acc: 1.0000 - val_loss: 0.1033 - val_acc: 0.9835\n",
      "Epoch 34/53\n",
      "1875/1875 [==============================] - 3s 2ms/step - loss: 6.3505e-05 - acc: 1.0000 - val_loss: 0.1040 - val_acc: 0.9836\n",
      "Epoch 35/53\n",
      "1875/1875 [==============================] - 3s 2ms/step - loss: 6.0259e-05 - acc: 1.0000 - val_loss: 0.1042 - val_acc: 0.9838\n",
      "Epoch 36/53\n",
      "1875/1875 [==============================] - 3s 2ms/step - loss: 5.7322e-05 - acc: 1.0000 - val_loss: 0.1051 - val_acc: 0.9837\n",
      "Epoch 37/53\n",
      "1875/1875 [==============================] - 3s 2ms/step - loss: 5.4717e-05 - acc: 1.0000 - val_loss: 0.1054 - val_acc: 0.9836\n",
      "Epoch 38/53\n",
      "1875/1875 [==============================] - 3s 2ms/step - loss: 5.2271e-05 - acc: 1.0000 - val_loss: 0.1059 - val_acc: 0.9838\n",
      "Epoch 39/53\n",
      "1875/1875 [==============================] - 3s 2ms/step - loss: 5.0073e-05 - acc: 1.0000 - val_loss: 0.1063 - val_acc: 0.9837\n",
      "Epoch 40/53\n",
      "1875/1875 [==============================] - 3s 2ms/step - loss: 4.7967e-05 - acc: 1.0000 - val_loss: 0.1069 - val_acc: 0.9837\n",
      "Epoch 41/53\n",
      "1875/1875 [==============================] - 3s 2ms/step - loss: 4.6316e-05 - acc: 1.0000 - val_loss: 0.1071 - val_acc: 0.9839\n",
      "Epoch 42/53\n",
      "1875/1875 [==============================] - 3s 2ms/step - loss: 4.4525e-05 - acc: 1.0000 - val_loss: 0.1073 - val_acc: 0.9836\n",
      "Epoch 43/53\n",
      "1875/1875 [==============================] - 3s 2ms/step - loss: 4.2987e-05 - acc: 1.0000 - val_loss: 0.1078 - val_acc: 0.9838\n",
      "Epoch 44/53\n",
      "1875/1875 [==============================] - 3s 2ms/step - loss: 4.1430e-05 - acc: 1.0000 - val_loss: 0.1081 - val_acc: 0.9836\n",
      "Epoch 45/53\n",
      "1875/1875 [==============================] - 3s 2ms/step - loss: 4.0082e-05 - acc: 1.0000 - val_loss: 0.1085 - val_acc: 0.9837\n",
      "Epoch 46/53\n",
      "1875/1875 [==============================] - 3s 2ms/step - loss: 3.8803e-05 - acc: 1.0000 - val_loss: 0.1089 - val_acc: 0.9835\n",
      "Epoch 47/53\n",
      "1875/1875 [==============================] - 3s 2ms/step - loss: 3.7551e-05 - acc: 1.0000 - val_loss: 0.1091 - val_acc: 0.9836\n",
      "Epoch 48/53\n",
      "1875/1875 [==============================] - 3s 2ms/step - loss: 3.6474e-05 - acc: 1.0000 - val_loss: 0.1094 - val_acc: 0.9836\n",
      "Epoch 49/53\n",
      "1875/1875 [==============================] - 3s 2ms/step - loss: 3.5369e-05 - acc: 1.0000 - val_loss: 0.1098 - val_acc: 0.9836\n",
      "Epoch 50/53\n",
      "1875/1875 [==============================] - 3s 2ms/step - loss: 3.4368e-05 - acc: 1.0000 - val_loss: 0.1100 - val_acc: 0.9837\n",
      "Epoch 51/53\n",
      "1875/1875 [==============================] - 3s 2ms/step - loss: 3.3493e-05 - acc: 1.0000 - val_loss: 0.1103 - val_acc: 0.9837\n",
      "Epoch 52/53\n",
      "1875/1875 [==============================] - 3s 2ms/step - loss: 3.2528e-05 - acc: 1.0000 - val_loss: 0.1105 - val_acc: 0.9836\n",
      "Epoch 53/53\n",
      "1875/1875 [==============================] - 3s 2ms/step - loss: 3.1769e-05 - acc: 1.0000 - val_loss: 0.1110 - val_acc: 0.9837\n",
      "Model: \"sequential_15\"\n",
      "_________________________________________________________________\n",
      " Layer (type)                Output Shape              Param #   \n",
      "=================================================================\n",
      " flatten_15 (Flatten)        (None, 784)               0         \n",
      "                                                                 \n",
      " dense_50 (Dense)            (None, 100)               78500     \n",
      "                                                                 \n",
      " dense_51 (Dense)            (None, 100)               10100     \n",
      "                                                                 \n",
      " dense_52 (Dense)            (None, 100)               10100     \n",
      "                                                                 \n",
      " dense_53 (Dense)            (None, 10)                1010      \n",
      "                                                                 \n",
      "=================================================================\n"
     ]
    },
    {
     "name": "stdout",
     "output_type": "stream",
     "text": [
      "Total params: 99,710\n",
      "Trainable params: 99,710\n",
      "Non-trainable params: 0\n",
      "_________________________________________________________________\n"
     ]
    }
   ],
   "source": [
    "#Multi-Layer networks\n",
    "#adding more hidden layers\n",
    "tf.random.set_seed(42)\n",
    "\n",
    "model2 = Sequential()\n",
    "#the dimension of our digit images is 28×28.Because the input dimension of a fully-connected layer is 784, we need to insert another layer into the network, called Flatten, to change tensor shape from 28×28 to 784\n",
    "model2.add(Flatten(input_shape=(28,28)))\n",
    "\n",
    "# 784 inputs=28*28, 100 outputs\n",
    "model2.add(Dense(100,activation=\"relu\"))\n",
    "\n",
    "model2.add(Dense(100,activation=\"relu\"))\n",
    "model2.add(Dense(100,activation=\"relu\"))     \n",
    "\n",
    "#We want th output of the network to return the probability of the input digit being equal to  . Because the output of a fully-connected layer is not normalized to be between 0 and 1, it cannot be thought of as probability. To turn it into a probability we need to apply another layer called Softmax.\n",
    "model2.add(Dense(10,activation=\"softmax\"))\n",
    "           \n",
    "model2.compile(SGD(lr=.1),loss='categorical_crossentropy',metrics=['acc'])\n",
    "model2.fit(xtr,ytr_oh,validation_data=(xts,yts_oh), epochs=50)\n",
    "model2.summary()\n",
    "#val_accuracy = .98"
   ]
  },
  {
   "cell_type": "markdown",
   "id": "3587cba7",
   "metadata": {},
   "source": [
    "<h4>moving on to CNN:</h4>\n",
    "\n",
    "the layer Conv2D from keras expects the input to be of the shape  W×H×C, where W and H are width and height of the image, and C is the number of color channels. Since the MINST dataset is grayscale, Then we need the same shape with C set to 1 this time.\n"
   ]
  },
  {
   "cell_type": "code",
   "execution_count": 22,
   "id": "7ff9947d",
   "metadata": {},
   "outputs": [
    {
     "name": "stdout",
     "output_type": "stream",
     "text": [
      "(60000, 28, 28, 1) (60000, 28, 28)\n"
     ]
    }
   ],
   "source": [
    "xtr_c = np.expand_dims(xtr,3)\n",
    "xts_c = np.expand_dims(xts,3)\n",
    "print(xtr_c.shape,xtr.shape)"
   ]
  },
  {
   "cell_type": "code",
   "execution_count": 29,
   "id": "dea0e475",
   "metadata": {},
   "outputs": [
    {
     "name": "stdout",
     "output_type": "stream",
     "text": [
      "Epoch 1/17\n",
      "1875/1875 [==============================] - 11s 6ms/step - loss: 0.2180 - acc: 0.9364 - val_loss: 0.0966 - val_acc: 0.9720\n",
      "Epoch 2/17\n",
      "1875/1875 [==============================] - 11s 6ms/step - loss: 0.0862 - acc: 0.9755 - val_loss: 0.0716 - val_acc: 0.9781\n",
      "Epoch 3/17\n",
      "1875/1875 [==============================] - 10s 5ms/step - loss: 0.0666 - acc: 0.9810 - val_loss: 0.0593 - val_acc: 0.9813\n",
      "Epoch 4/17\n",
      "1875/1875 [==============================] - 11s 6ms/step - loss: 0.0579 - acc: 0.9833 - val_loss: 0.0677 - val_acc: 0.9787\n",
      "Epoch 5/17\n",
      "1875/1875 [==============================] - 10s 5ms/step - loss: 0.0529 - acc: 0.9851 - val_loss: 0.0577 - val_acc: 0.9811\n",
      "Epoch 6/17\n",
      "1875/1875 [==============================] - 11s 6ms/step - loss: 0.0489 - acc: 0.9862 - val_loss: 0.0540 - val_acc: 0.9825\n",
      "Epoch 7/17\n",
      "1875/1875 [==============================] - 12s 6ms/step - loss: 0.0460 - acc: 0.9868 - val_loss: 0.0560 - val_acc: 0.9828\n",
      "Epoch 8/17\n",
      "1875/1875 [==============================] - 11s 6ms/step - loss: 0.0445 - acc: 0.9872 - val_loss: 0.0518 - val_acc: 0.9835\n",
      "Epoch 9/17\n",
      "1875/1875 [==============================] - 9s 5ms/step - loss: 0.0424 - acc: 0.9879 - val_loss: 0.0564 - val_acc: 0.9823\n",
      "Epoch 10/17\n",
      "1875/1875 [==============================] - 10s 6ms/step - loss: 0.0407 - acc: 0.9884 - val_loss: 0.0524 - val_acc: 0.9837\n",
      "Epoch 11/17\n",
      "1875/1875 [==============================] - 11s 6ms/step - loss: 0.0393 - acc: 0.9887 - val_loss: 0.0552 - val_acc: 0.9834\n",
      "Epoch 12/17\n",
      "1875/1875 [==============================] - 11s 6ms/step - loss: 0.0377 - acc: 0.9893 - val_loss: 0.0568 - val_acc: 0.9812\n",
      "Epoch 13/17\n",
      "1875/1875 [==============================] - 11s 6ms/step - loss: 0.0367 - acc: 0.9897 - val_loss: 0.0527 - val_acc: 0.9834\n",
      "Epoch 14/17\n",
      "1875/1875 [==============================] - 9s 5ms/step - loss: 0.0359 - acc: 0.9900 - val_loss: 0.0557 - val_acc: 0.9833\n",
      "Epoch 15/17\n",
      "1875/1875 [==============================] - 9s 5ms/step - loss: 0.0344 - acc: 0.9904 - val_loss: 0.0563 - val_acc: 0.9824\n",
      "Epoch 16/17\n",
      "1875/1875 [==============================] - 11s 6ms/step - loss: 0.0337 - acc: 0.9903 - val_loss: 0.0546 - val_acc: 0.9838\n",
      "Epoch 17/17\n",
      "1875/1875 [==============================] - 11s 6ms/step - loss: 0.0324 - acc: 0.9910 - val_loss: 0.0586 - val_acc: 0.9843\n",
      "Model: \"sequential_21\"\n",
      "_________________________________________________________________\n",
      " Layer (type)                Output Shape              Param #   \n",
      "=================================================================\n",
      " conv2d_55 (Conv2D)          (None, 24, 24, 9)         234       \n",
      "                                                                 \n",
      " flatten_16 (Flatten)        (None, 5184)              0         \n",
      "                                                                 \n",
      " dense_17 (Dense)            (None, 10)                51850     \n",
      "                                                                 \n",
      "=================================================================\n",
      "Total params: 52,084\n",
      "Trainable params: 52,084\n",
      "Non-trainable params: 0\n",
      "_________________________________________________________________\n"
     ]
    }
   ],
   "source": [
    "tf.random.set_seed(42)\n",
    "model3 = keras.models.Sequential()\n",
    "\n",
    "model3.add(Conv2D(filters=9, kernel_size=(5,5), input_shape=(28,28,1),activation='relu'))\n",
    "\n",
    "model3.add(Flatten())\n",
    "\n",
    "model3.add(Dense(10,activation=\"softmax\"))\n",
    "\n",
    "model3.compile(loss='categorical_crossentropy',metrics=['acc'])\n",
    "\n",
    "model3.fit(xtr_c,ytr_oh,validation_data=(xts_c,yts_oh),epochs=17)\n",
    "\n",
    "model3.summary()"
   ]
  },
  {
   "cell_type": "code",
   "execution_count": 28,
   "id": "f039e34f",
   "metadata": {},
   "outputs": [
    {
     "name": "stdout",
     "output_type": "stream",
     "text": [
      "Epoch 1/10\n",
      "1875/1875 [==============================] - 18s 9ms/step - loss: 0.2177 - acc: 0.9321 - val_loss: 0.0780 - val_acc: 0.9742\n",
      "Epoch 2/10\n",
      "1875/1875 [==============================] - 17s 9ms/step - loss: 0.0607 - acc: 0.9817 - val_loss: 0.0525 - val_acc: 0.9822\n",
      "Epoch 3/10\n",
      "1875/1875 [==============================] - 17s 9ms/step - loss: 0.0406 - acc: 0.9870 - val_loss: 0.0347 - val_acc: 0.9889\n",
      "Epoch 4/10\n",
      "1875/1875 [==============================] - 17s 9ms/step - loss: 0.0329 - acc: 0.9901 - val_loss: 0.0454 - val_acc: 0.9859\n",
      "Epoch 5/10\n",
      "1875/1875 [==============================] - 17s 9ms/step - loss: 0.0275 - acc: 0.9920 - val_loss: 0.0324 - val_acc: 0.9902\n",
      "Epoch 6/10\n",
      "1875/1875 [==============================] - 20s 11ms/step - loss: 0.0236 - acc: 0.9930 - val_loss: 0.0317 - val_acc: 0.9908\n",
      "Epoch 7/10\n",
      "1875/1875 [==============================] - 20s 10ms/step - loss: 0.0211 - acc: 0.9937 - val_loss: 0.0306 - val_acc: 0.9919\n",
      "Epoch 8/10\n",
      "1875/1875 [==============================] - 20s 10ms/step - loss: 0.0195 - acc: 0.9945 - val_loss: 0.0391 - val_acc: 0.9893\n",
      "Epoch 9/10\n",
      "1875/1875 [==============================] - 19s 10ms/step - loss: 0.0163 - acc: 0.9951 - val_loss: 0.0317 - val_acc: 0.9912\n",
      "Epoch 10/10\n",
      "1875/1875 [==============================] - 19s 10ms/step - loss: 0.0143 - acc: 0.9958 - val_loss: 0.0343 - val_acc: 0.9919\n",
      "Model: \"sequential_20\"\n",
      "_________________________________________________________________\n",
      " Layer (type)                Output Shape              Param #   \n",
      "=================================================================\n",
      " conv2d_52 (Conv2D)          (None, 24, 24, 20)        520       \n",
      "                                                                 \n",
      " max_pooling2d_28 (MaxPoolin  (None, 12, 12, 20)       0         \n",
      " g2D)                                                            \n",
      "                                                                 \n",
      " conv2d_53 (Conv2D)          (None, 8, 8, 20)          10020     \n",
      "                                                                 \n",
      " conv2d_54 (Conv2D)          (None, 4, 4, 20)          10020     \n",
      "                                                                 \n",
      " max_pooling2d_29 (MaxPoolin  (None, 2, 2, 20)         0         \n",
      " g2D)                                                            \n",
      "                                                                 \n",
      " flatten_15 (Flatten)        (None, 80)                0         \n",
      "                                                                 \n",
      " dense_16 (Dense)            (None, 10)                810       \n",
      "                                                                 \n",
      "=================================================================\n",
      "Total params: 21,370\n",
      "Trainable params: 21,370\n",
      "Non-trainable params: 0\n",
      "_________________________________________________________________\n"
     ]
    }
   ],
   "source": [
    "tf.random.set_seed(42)\n",
    "model4 = keras.models.Sequential()\n",
    "\n",
    "model4.add(Conv2D(filters=20, kernel_size=(5,5), input_shape=(28,28,1),activation='relu'))\n",
    "model4.add(MaxPooling2D())\n",
    "\n",
    "model4.add(Conv2D(filters=20, kernel_size=(5,5), activation='relu'))\n",
    "\n",
    "model4.add(Conv2D(filters=20, kernel_size=(5,5), activation='relu'))\n",
    "model4.add(MaxPooling2D())\n",
    "\n",
    "model4.add(Flatten())\n",
    "model4.add(Dense(10,activation=\"softmax\"))\n",
    "\n",
    "model4.compile(loss='categorical_crossentropy',metrics=['acc'])\n",
    "\n",
    "model4.fit(xtr_c,ytr_oh,validation_data=(xts_c,yts_oh),epochs=10)\n",
    "model4.summary()"
   ]
  }
 ],
 "metadata": {
  "kernelspec": {
   "display_name": "Python 3 (ipykernel)",
   "language": "python",
   "name": "python3"
  },
  "language_info": {
   "codemirror_mode": {
    "name": "ipython",
    "version": 3
   },
   "file_extension": ".py",
   "mimetype": "text/x-python",
   "name": "python",
   "nbconvert_exporter": "python",
   "pygments_lexer": "ipython3",
   "version": "3.8.10"
  }
 },
 "nbformat": 4,
 "nbformat_minor": 5
}
