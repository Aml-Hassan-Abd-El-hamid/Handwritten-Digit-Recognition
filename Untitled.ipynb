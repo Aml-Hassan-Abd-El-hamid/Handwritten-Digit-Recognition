{
 "cells": [
  {
   "cell_type": "markdown",
   "id": "2b2c67de",
   "metadata": {},
   "source": [
    "# handwritten digits\n",
    "\n",
    "Importing Libs"
   ]
  },
  {
   "cell_type": "code",
   "execution_count": 1,
   "id": "049a79ee",
   "metadata": {},
   "outputs": [
    {
     "name": "stderr",
     "output_type": "stream",
     "text": [
      "2022-07-30 00:55:35.895880: W tensorflow/stream_executor/platform/default/dso_loader.cc:64] Could not load dynamic library 'libcudart.so.11.0'; dlerror: libcudart.so.11.0: cannot open shared object file: No such file or directory\n",
      "2022-07-30 00:55:35.895982: I tensorflow/stream_executor/cuda/cudart_stub.cc:29] Ignore above cudart dlerror if you do not have a GPU set up on your machine.\n"
     ]
    },
    {
     "name": "stdout",
     "output_type": "stream",
     "text": [
      "0\n"
     ]
    },
    {
     "name": "stderr",
     "output_type": "stream",
     "text": [
      "2022-07-30 00:55:53.874733: E tensorflow/stream_executor/cuda/cuda_driver.cc:271] failed call to cuInit: CUDA_ERROR_NO_DEVICE: no CUDA-capable device is detected\n",
      "2022-07-30 00:55:53.874781: I tensorflow/stream_executor/cuda/cuda_diagnostics.cc:156] kernel driver does not appear to be running on this host (aml-HP-ZBook-15-G3): /proc/driver/nvidia/version does not exist\n"
     ]
    }
   ],
   "source": [
    "#Import the packages needed.\n",
    "import tensorflow as tf\n",
    "from tensorflow import keras \n",
    "import matplotlib.pyplot as plt\n",
    "import numpy as np\n",
    "from keras.models import Sequential\n",
    "from keras.layers import Flatten,Dense,Conv2D\n",
    "from keras.optimizers import SGD\n",
    "import os\n",
    "tf.random.set_seed(42)\n",
    "physical_devices = tf.config.list_physical_devices('GPU') \n",
    "if len(physical_devices)>0:\n",
    "    tf.config.experimental.set_memory_growth(physical_devices[0], True)\n",
    "\n",
    "print(len(physical_devices))"
   ]
  },
  {
   "cell_type": "markdown",
   "id": "191ac057",
   "metadata": {},
   "source": [
    "Loading data"
   ]
  },
  {
   "cell_type": "code",
   "execution_count": 2,
   "id": "7bdd6e56",
   "metadata": {},
   "outputs": [
    {
     "name": "stdout",
     "output_type": "stream",
     "text": [
      "(60000, 28, 28) (60000,)\n",
      "(10000, 28, 28) (10000,)\n"
     ]
    }
   ],
   "source": [
    "(xtr,ytr),(xts,yts) = keras.datasets.mnist.load_data()\n",
    "\n",
    "print(xtr.shape, ytr.shape)\n",
    "print(xts.shape,yts.shape)"
   ]
  },
  {
   "cell_type": "markdown",
   "id": "2830eee4",
   "metadata": {},
   "source": [
    "## Visualize the digits dataset And Exploring the Data\n"
   ]
  },
  {
   "cell_type": "code",
   "execution_count": 3,
   "id": "a72d93cb",
   "metadata": {},
   "outputs": [
    {
     "name": "stdout",
     "output_type": "stream",
     "text": [
      "Training data: 60000\n",
      "Test data: 10000\n",
      "Tensor shape: (28, 28)\n",
      "Type of data is  <class 'numpy.ndarray'>\n"
     ]
    },
    {
     "data": {
      "text/plain": [
       "Text(0.5, 0.98, 'The first ten numbers')"
      ]
     },
     "execution_count": 3,
     "metadata": {},
     "output_type": "execute_result"
    },
    {
     "data": {
      "image/png": "[encoded data removed]",
      "text/plain": [
       "<Figure size 432x288 with 10 Axes>"
      ]
     },
     "metadata": {
      "needs_background": "light"
     },
     "output_type": "display_data"
    }
   ],
   "source": [
    "print('Training data:',len(xtr))\n",
    "print('Test data:',len(xts))\n",
    "print('Tensor shape:',xtr[0].shape)\n",
    "print('Type of data is ',type(xtr))\n",
    "\n",
    "#show the first ten numbers\n",
    "#(1,10)= 1 rows, ten columns\n",
    "#x = an array of Axes objects\n",
    "figure,x = plt.subplots(1,10)\n",
    "for i in range(10):\n",
    "    x[i].imshow(xtr[i])\n",
    "    x[i].set_title(ytr[i])\n",
    "#don't show axis, it's ugly here :(\n",
    "    x[i].axis('off')\n",
    "figure.suptitle(\"The first ten numbers\")\n"
   ]
  },
  {
   "cell_type": "markdown",
   "id": "6055c207",
   "metadata": {},
   "source": [
    "# Pre-Processing"
   ]
  },
  {
   "cell_type": "code",
   "execution_count": 4,
   "id": "1f7b29fa",
   "metadata": {},
   "outputs": [
    {
     "name": "stdout",
     "output_type": "stream",
     "text": [
      "First digit: [5]\n",
      "One-hot-encoded version:\n",
      " [[0. 0. 0. 0. 0. 1. 0. 0. 0. 0.]]\n"
     ]
    }
   ],
   "source": [
    "# Normalizing the data\n",
    "#using float 16 insted of float 32 since it's more efficient\n",
    "xtr = xtr.astype(np.float32)/255.0\n",
    "xts = xts.astype(np.float32)/255.0\n",
    "#one hot encoding \n",
    "ytr_oh = keras.utils.to_categorical(ytr)\n",
    "yts_oh = keras.utils.to_categorical(yts)\n",
    "print(\"First digit:\",ytr[:1])\n",
    "print(\"One-hot-encoded version:\\n\",ytr_oh[:1])\n"
   ]
  },
  {
   "cell_type": "markdown",
   "id": "3d30962b",
   "metadata": {},
   "source": [
    "# Modeling and Toneing"
   ]
  },
  {
   "cell_type": "markdown",
   "id": "bfa58bd1",
   "metadata": {},
   "source": [
    "for starting I'm going to use a simple sequential model and then build up more complex model"
   ]
  },
  {
   "cell_type": "code",
   "execution_count": 5,
   "id": "200d2ab8",
   "metadata": {},
   "outputs": [
    {
     "name": "stderr",
     "output_type": "stream",
     "text": [
      "2022-07-30 00:56:04.394162: I tensorflow/core/platform/cpu_feature_guard.cc:193] This TensorFlow binary is optimized with oneAPI Deep Neural Network Library (oneDNN) to use the following CPU instructions in performance-critical operations:  AVX2 FMA\n",
      "To enable them in other operations, rebuild TensorFlow with the appropriate compiler flags.\n",
      "/home/aml/.local/lib/python3.8/site-packages/keras/optimizers/optimizer_v2/gradient_descent.py:108: UserWarning: The `lr` argument is deprecated, use `learning_rate` instead.\n",
      "  super(SGD, self).__init__(name, **kwargs)\n"
     ]
    },
    {
     "name": "stdout",
     "output_type": "stream",
     "text": [
      "Epoch 1/10\n",
      "1875/1875 [==============================] - 4s 2ms/step - loss: 0.3770 - acc: 0.8921 - val_loss: 0.3082 - val_acc: 0.9123\n",
      "Epoch 2/10\n",
      "1875/1875 [==============================] - 3s 1ms/step - loss: 0.3033 - acc: 0.9145 - val_loss: 0.2905 - val_acc: 0.9177\n",
      "Epoch 3/10\n",
      "1875/1875 [==============================] - 3s 1ms/step - loss: 0.2896 - acc: 0.9182 - val_loss: 0.2785 - val_acc: 0.9210\n",
      "Epoch 4/10\n",
      "1875/1875 [==============================] - 3s 1ms/step - loss: 0.2824 - acc: 0.9207 - val_loss: 0.2807 - val_acc: 0.9228\n",
      "Epoch 5/10\n",
      "1875/1875 [==============================] - 3s 1ms/step - loss: 0.2773 - acc: 0.9223 - val_loss: 0.2865 - val_acc: 0.9197\n",
      "Epoch 6/10\n",
      "1875/1875 [==============================] - 3s 1ms/step - loss: 0.2744 - acc: 0.9237 - val_loss: 0.2748 - val_acc: 0.9219\n",
      "Epoch 7/10\n",
      "1875/1875 [==============================] - 3s 1ms/step - loss: 0.2706 - acc: 0.9246 - val_loss: 0.2893 - val_acc: 0.9212\n",
      "Epoch 8/10\n",
      "1875/1875 [==============================] - 3s 2ms/step - loss: 0.2693 - acc: 0.9247 - val_loss: 0.2783 - val_acc: 0.9235\n",
      "Epoch 9/10\n",
      "1875/1875 [==============================] - 3s 1ms/step - loss: 0.2676 - acc: 0.9262 - val_loss: 0.2734 - val_acc: 0.9231\n",
      "Epoch 10/10\n",
      "1875/1875 [==============================] - 3s 2ms/step - loss: 0.2651 - acc: 0.9261 - val_loss: 0.2760 - val_acc: 0.9215\n",
      "Model: \"sequential\"\n",
      "_________________________________________________________________\n",
      " Layer (type)                Output Shape              Param #   \n",
      "=================================================================\n",
      " flatten (Flatten)           (None, 784)               0         \n",
      "                                                                 \n",
      " dense (Dense)               (None, 10)                7850      \n",
      "                                                                 \n",
      "=================================================================\n",
      "Total params: 7,850\n",
      "Trainable params: 7,850\n",
      "Non-trainable params: 0\n",
      "_________________________________________________________________\n"
     ]
    }
   ],
   "source": [
    "#starting with a simple model of only 2 layers\n",
    "model1 = Sequential()\n",
    "#the dimension of our digit images is 28×28.Because the input dimension of a fully-connected layer is 784, we need to insert another layer into the network, called Flatten, to change tensor shape from 28×28 to 784\n",
    "model1.add(Flatten(input_shape=(28,28)))\n",
    "#We want th output of the network to return the probability of the input digit being equal to  . Because the output of a fully-connected layer is not normalized to be between 0 and 1, it cannot be thought of as probability. To turn it into a probability we need to apply another layer called Softmax.\n",
    "model1.add(Dense(10,activation=\"softmax\"))\n",
    "           \n",
    "model1.compile(SGD(momentum=0.5,lr=.1),loss='categorical_crossentropy',metrics=['acc'])\n",
    "model1.fit(xtr,ytr_oh,validation_data=(xts,yts_oh), epochs=10)\n",
    "model1.summary()\n",
    "#that model's accuracy is already 92% although it's very simple one"
   ]
  },
  {
   "cell_type": "code",
   "execution_count": 6,
   "id": "9deeeae6",
   "metadata": {},
   "outputs": [
    {
     "name": "stdout",
     "output_type": "stream",
     "text": [
      "Epoch 1/30\n",
      "1875/1875 [==============================] - 4s 2ms/step - loss: 0.3037 - acc: 0.9118 - val_loss: 0.1725 - val_acc: 0.9469\n",
      "Epoch 2/30\n",
      "1875/1875 [==============================] - 4s 2ms/step - loss: 0.1492 - acc: 0.9568 - val_loss: 0.1279 - val_acc: 0.9621\n",
      "Epoch 3/30\n",
      "1875/1875 [==============================] - 3s 2ms/step - loss: 0.1091 - acc: 0.9675 - val_loss: 0.0971 - val_acc: 0.9697\n",
      "Epoch 4/30\n",
      "1875/1875 [==============================] - 4s 2ms/step - loss: 0.0876 - acc: 0.9742 - val_loss: 0.0931 - val_acc: 0.9709\n",
      "Epoch 5/30\n",
      "1875/1875 [==============================] - 4s 2ms/step - loss: 0.0727 - acc: 0.9789 - val_loss: 0.0858 - val_acc: 0.9733\n",
      "Epoch 6/30\n",
      "1875/1875 [==============================] - 4s 2ms/step - loss: 0.0620 - acc: 0.9818 - val_loss: 0.0787 - val_acc: 0.9760\n",
      "Epoch 7/30\n",
      "1875/1875 [==============================] - 4s 2ms/step - loss: 0.0538 - acc: 0.9841 - val_loss: 0.0790 - val_acc: 0.9750\n",
      "Epoch 8/30\n",
      "1875/1875 [==============================] - 3s 2ms/step - loss: 0.0483 - acc: 0.9853 - val_loss: 0.0756 - val_acc: 0.9773\n",
      "Epoch 9/30\n",
      "1875/1875 [==============================] - 4s 2ms/step - loss: 0.0419 - acc: 0.9877 - val_loss: 0.0765 - val_acc: 0.9766\n",
      "Epoch 10/30\n",
      "1875/1875 [==============================] - 4s 2ms/step - loss: 0.0366 - acc: 0.9893 - val_loss: 0.0754 - val_acc: 0.9779\n",
      "Epoch 11/30\n",
      "1875/1875 [==============================] - 4s 2ms/step - loss: 0.0327 - acc: 0.9910 - val_loss: 0.0783 - val_acc: 0.9753\n",
      "Epoch 12/30\n",
      "1875/1875 [==============================] - 4s 2ms/step - loss: 0.0284 - acc: 0.9919 - val_loss: 0.0785 - val_acc: 0.9760\n",
      "Epoch 13/30\n",
      "1875/1875 [==============================] - 4s 2ms/step - loss: 0.0255 - acc: 0.9929 - val_loss: 0.0756 - val_acc: 0.9787\n",
      "Epoch 14/30\n",
      "1875/1875 [==============================] - 4s 2ms/step - loss: 0.0225 - acc: 0.9943 - val_loss: 0.0763 - val_acc: 0.9779\n",
      "Epoch 15/30\n",
      "1875/1875 [==============================] - 4s 2ms/step - loss: 0.0195 - acc: 0.9956 - val_loss: 0.0764 - val_acc: 0.9784\n",
      "Epoch 16/30\n",
      "1875/1875 [==============================] - 4s 2ms/step - loss: 0.0176 - acc: 0.9958 - val_loss: 0.0736 - val_acc: 0.9773\n",
      "Epoch 17/30\n",
      "1875/1875 [==============================] - 4s 2ms/step - loss: 0.0158 - acc: 0.9966 - val_loss: 0.0781 - val_acc: 0.9755\n",
      "Epoch 18/30\n",
      "1875/1875 [==============================] - 4s 2ms/step - loss: 0.0143 - acc: 0.9972 - val_loss: 0.0770 - val_acc: 0.9769\n",
      "Epoch 19/30\n",
      "1875/1875 [==============================] - 4s 2ms/step - loss: 0.0125 - acc: 0.9974 - val_loss: 0.0772 - val_acc: 0.9778\n",
      "Epoch 20/30\n",
      "1875/1875 [==============================] - 4s 2ms/step - loss: 0.0111 - acc: 0.9980 - val_loss: 0.0745 - val_acc: 0.9783\n",
      "Epoch 21/30\n",
      "1875/1875 [==============================] - 3s 2ms/step - loss: 0.0100 - acc: 0.9985 - val_loss: 0.0741 - val_acc: 0.9783\n",
      "Epoch 22/30\n",
      "1875/1875 [==============================] - 4s 2ms/step - loss: 0.0088 - acc: 0.9989 - val_loss: 0.0801 - val_acc: 0.9766\n",
      "Epoch 23/30\n",
      "1875/1875 [==============================] - 3s 2ms/step - loss: 0.0079 - acc: 0.9990 - val_loss: 0.0791 - val_acc: 0.9779\n",
      "Epoch 24/30\n",
      "1875/1875 [==============================] - 4s 2ms/step - loss: 0.0069 - acc: 0.9994 - val_loss: 0.0800 - val_acc: 0.9770\n",
      "Epoch 25/30\n",
      "1875/1875 [==============================] - 4s 2ms/step - loss: 0.0064 - acc: 0.9995 - val_loss: 0.0810 - val_acc: 0.9785\n",
      "Epoch 26/30\n",
      "1875/1875 [==============================] - 4s 2ms/step - loss: 0.0058 - acc: 0.9995 - val_loss: 0.0789 - val_acc: 0.9776\n",
      "Epoch 27/30\n",
      "1875/1875 [==============================] - 4s 2ms/step - loss: 0.0054 - acc: 0.9995 - val_loss: 0.0799 - val_acc: 0.9778\n",
      "Epoch 28/30\n",
      "1875/1875 [==============================] - 4s 2ms/step - loss: 0.0050 - acc: 0.9996 - val_loss: 0.0801 - val_acc: 0.9782\n",
      "Epoch 29/30\n",
      "1875/1875 [==============================] - 4s 2ms/step - loss: 0.0042 - acc: 0.9998 - val_loss: 0.0803 - val_acc: 0.9783\n",
      "Epoch 30/30\n",
      "1875/1875 [==============================] - 4s 2ms/step - loss: 0.0040 - acc: 0.9999 - val_loss: 0.0813 - val_acc: 0.9782\n",
      "Model: \"sequential_1\"\n",
      "_________________________________________________________________\n",
      " Layer (type)                Output Shape              Param #   \n",
      "=================================================================\n",
      " flatten_1 (Flatten)         (None, 784)               0         \n",
      "                                                                 \n",
      " dense_1 (Dense)             (None, 100)               78500     \n",
      "                                                                 \n",
      " dense_2 (Dense)             (None, 10)                1010      \n",
      "                                                                 \n",
      "=================================================================\n",
      "Total params: 79,510\n",
      "Trainable params: 79,510\n",
      "Non-trainable params: 0\n",
      "_________________________________________________________________\n"
     ]
    }
   ],
   "source": [
    "#Multi-Layer networks\n",
    "#adding more hidden layers\n",
    "#starting with a simple model of only 2 layers\n",
    "model2 = Sequential()\n",
    "#the dimension of our digit images is 28×28.Because the input dimension of a fully-connected layer is 784, we need to insert another layer into the network, called Flatten, to change tensor shape from 28×28 to 784\n",
    "model2.add(Flatten(input_shape=(28,28)))\n",
    "\n",
    "# 784 inputs, 100 outputs\n",
    "model2.add(Dense(100,activation=\"relu\"))     \n",
    "\n",
    "#We want th output of the network to return the probability of the input digit being equal to  . Because the output of a fully-connected layer is not normalized to be between 0 and 1, it cannot be thought of as probability. To turn it into a probability we need to apply another layer called Softmax.\n",
    "model2.add(Dense(10,activation=\"softmax\"))\n",
    "           \n",
    "model2.compile(SGD(lr=.1),loss='categorical_crossentropy',metrics=['acc'])\n",
    "model2.fit(xtr,ytr_oh,validation_data=(xts,yts_oh), epochs=30)\n",
    "model2.summary()\n",
    "#val_accuracy = .97"
   ]
  },
  {
   "cell_type": "code",
   "execution_count": 8,
   "id": "a66a42cb",
   "metadata": {},
   "outputs": [
    {
     "name": "stdout",
     "output_type": "stream",
     "text": [
      "Epoch 1/10\n",
      "1875/1875 [==============================] - 10s 5ms/step - loss: 0.2004 - acc: 0.9425 - val_loss: 0.0950 - val_acc: 0.9716\n",
      "Epoch 2/10\n",
      "1875/1875 [==============================] - 9s 5ms/step - loss: 0.0858 - acc: 0.9750 - val_loss: 0.0666 - val_acc: 0.9800\n",
      "Epoch 3/10\n",
      "1875/1875 [==============================] - 9s 5ms/step - loss: 0.0658 - acc: 0.9808 - val_loss: 0.0583 - val_acc: 0.9822\n",
      "Epoch 4/10\n",
      "1875/1875 [==============================] - 10s 5ms/step - loss: 0.0564 - acc: 0.9837 - val_loss: 0.0603 - val_acc: 0.9806\n",
      "Epoch 5/10\n",
      "1875/1875 [==============================] - 11s 6ms/step - loss: 0.0513 - acc: 0.9850 - val_loss: 0.0532 - val_acc: 0.9827\n",
      "Epoch 6/10\n",
      "1875/1875 [==============================] - 9s 5ms/step - loss: 0.0476 - acc: 0.9868 - val_loss: 0.0499 - val_acc: 0.9846\n",
      "Epoch 7/10\n",
      "1875/1875 [==============================] - 9s 5ms/step - loss: 0.0446 - acc: 0.9875 - val_loss: 0.0549 - val_acc: 0.9842\n",
      "Epoch 8/10\n",
      "1875/1875 [==============================] - 9s 5ms/step - loss: 0.0430 - acc: 0.9874 - val_loss: 0.0508 - val_acc: 0.9840\n",
      "Epoch 9/10\n",
      "1875/1875 [==============================] - 9s 5ms/step - loss: 0.0411 - acc: 0.9890 - val_loss: 0.0576 - val_acc: 0.9836\n",
      "Epoch 10/10\n",
      "1875/1875 [==============================] - 10s 6ms/step - loss: 0.0401 - acc: 0.9884 - val_loss: 0.0504 - val_acc: 0.9844\n",
      "Model: \"sequential_3\"\n",
      "_________________________________________________________________\n",
      " Layer (type)                Output Shape              Param #   \n",
      "=================================================================\n",
      " conv2d_1 (Conv2D)           (None, 24, 24, 9)         234       \n",
      "                                                                 \n",
      " flatten_3 (Flatten)         (None, 5184)              0         \n",
      "                                                                 \n",
      " dense_4 (Dense)             (None, 10)                51850     \n",
      "                                                                 \n",
      "=================================================================\n",
      "Total params: 52,084\n",
      "Trainable params: 52,084\n",
      "Non-trainable params: 0\n",
      "_________________________________________________________________\n"
     ]
    }
   ],
   "source": [
    "#Multi-level networks can achieve higher accuracy than single-layer perceptron, however, they are not perfect for computer vision tasks. In images, there are some structural patterns that can help us classify an object regardless of it's position in the image, but perceptrons do not allow us to extract those patterns and look for them selectively. In the next unit we will focus on a special type of neural networks that can be used effectively for computer vision tasks.\n",
    "#Trying CNN: Convolutional neural networks\n",
    "#Computer vision is different from generic classification, because when we are trying to find a certain object in the picture, we are scanning the image looking for some specific patterns and their combinations.\n",
    "model3 = keras.models.Sequential()\n",
    "\n",
    "model3.add(Conv2D(filters=9, kernel_size=(5,5), input_shape=(28,28,1),activation='relu'))\n",
    "model3.add(Flatten())\n",
    "model3.add(Dense(10))\n",
    "\n",
    "model3.compile(loss=keras.losses.SparseCategoricalCrossentropy(from_logits=True),metrics=['acc'])\n",
    "\n",
    "x_train_c = np.expand_dims(xtr,3)\n",
    "x_test_c = np.expand_dims(xts,3)\n",
    "hist = model3.fit(x_train_c,ytr,validation_data=(x_test_c,yts),epochs=10)\n",
    "\n",
    "model3.summary()"
   ]
  },
  {
   "cell_type": "code",
   "execution_count": null,
   "id": "3ce91d5a",
   "metadata": {},
   "outputs": [
    {
     "name": "stdout",
     "output_type": "stream",
     "text": [
      "Epoch 1/20\n",
      "1875/1875 [==============================] - 15s 8ms/step - loss: 0.2508 - acc: 0.9252 - val_loss: 0.0933 - val_acc: 0.9703\n",
      "Epoch 2/20\n",
      "1875/1875 [==============================] - 14s 8ms/step - loss: 0.0877 - acc: 0.9737 - val_loss: 0.0733 - val_acc: 0.9759\n",
      "Epoch 3/20\n",
      "1875/1875 [==============================] - 14s 8ms/step - loss: 0.0649 - acc: 0.9805 - val_loss: 0.0523 - val_acc: 0.9826\n",
      "Epoch 4/20\n",
      "1875/1875 [==============================] - 15s 8ms/step - loss: 0.0541 - acc: 0.9835 - val_loss: 0.0540 - val_acc: 0.9843\n",
      "Epoch 5/20\n",
      "1875/1875 [==============================] - 17s 9ms/step - loss: 0.0462 - acc: 0.9862 - val_loss: 0.0426 - val_acc: 0.9870\n",
      "Epoch 6/20\n",
      "1875/1875 [==============================] - 16s 8ms/step - loss: 0.0408 - acc: 0.9874 - val_loss: 0.0433 - val_acc: 0.9868\n",
      "Epoch 7/20\n",
      "1875/1875 [==============================] - 14s 8ms/step - loss: 0.0371 - acc: 0.9890 - val_loss: 0.0470 - val_acc: 0.9865\n",
      "Epoch 8/20\n",
      "1875/1875 [==============================] - 16s 8ms/step - loss: 0.0341 - acc: 0.9900 - val_loss: 0.0412 - val_acc: 0.9876\n",
      "Epoch 9/20\n",
      "1875/1875 [==============================] - 17s 9ms/step - loss: 0.0313 - acc: 0.9906 - val_loss: 0.0453 - val_acc: 0.9870\n",
      "Epoch 10/20\n",
      "1875/1875 [==============================] - 18s 9ms/step - loss: 0.0286 - acc: 0.9909 - val_loss: 0.0401 - val_acc: 0.9879\n",
      "Epoch 11/20\n",
      "1875/1875 [==============================] - 15s 8ms/step - loss: 0.0263 - acc: 0.9922 - val_loss: 0.0460 - val_acc: 0.9870\n",
      "Epoch 12/20\n",
      "1875/1875 [==============================] - 15s 8ms/step - loss: 0.0245 - acc: 0.9926 - val_loss: 0.0445 - val_acc: 0.9879\n",
      "Epoch 13/20\n",
      "1875/1875 [==============================] - 16s 9ms/step - loss: 0.0218 - acc: 0.9934 - val_loss: 0.0486 - val_acc: 0.9880\n",
      "Epoch 14/20\n",
      "1875/1875 [==============================] - 15s 8ms/step - loss: 0.0219 - acc: 0.9933 - val_loss: 0.0531 - val_acc: 0.9860\n",
      "Epoch 15/20\n",
      "1875/1875 [==============================] - 15s 8ms/step - loss: 0.0208 - acc: 0.9936 - val_loss: 0.0529 - val_acc: 0.9879\n",
      "Epoch 16/20\n",
      "1875/1875 [==============================] - 14s 8ms/step - loss: 0.0188 - acc: 0.9945 - val_loss: 0.0482 - val_acc: 0.9879\n",
      "Epoch 17/20\n",
      " 704/1875 [==========>...................] - ETA: 8s - loss: 0.0158 - acc: 0.9949"
     ]
    }
   ],
   "source": [
    "model = keras.models.Sequential([\n",
    "    Conv2D(filters=10, kernel_size=(7,7), input_shape=(28,28,1),activation='relu'),\n",
    "    keras.layers.MaxPooling2D(),\n",
    "    Conv2D(filters=20, kernel_size=(7,7), activation='relu'),\n",
    "    keras.layers.MaxPooling2D(),    \n",
    "    Flatten(),\n",
    "    Dense(10)\n",
    "])\n",
    "\n",
    "model.compile(loss=keras.losses.SparseCategoricalCrossentropy(from_logits=True),metrics=['acc'])\n",
    "xtr_c = np.expand_dims(xtr,3)\n",
    "xts_c = np.expand_dims(xts,3)\n",
    "hist = model.fit(xtr_c,ytr,validation_data=(xts_c,yts),epochs=20)\n",
    "model.summary()"
   ]
  }
 ],
 "metadata": {
  "kernelspec": {
   "display_name": "Python 3 (ipykernel)",
   "language": "python",
   "name": "python3"
  },
  "language_info": {
   "codemirror_mode": {
    "name": "ipython",
    "version": 3
   },
   "file_extension": ".py",
   "mimetype": "text/x-python",
   "name": "python",
   "nbconvert_exporter": "python",
   "pygments_lexer": "ipython3",
   "version": "3.8.10"
  }
 },
 "nbformat": 4,
 "nbformat_minor": 5
}
